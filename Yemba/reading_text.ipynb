{
 "cells": [
  {
   "cell_type": "code",
   "execution_count": 331,
   "id": "2ded2dff",
   "metadata": {},
   "outputs": [],
   "source": [
    "import pandas as pd\n",
    "import numpy as np\n",
    "import string # this will be used to remouve puntuation"
   ]
  },
  {
   "cell_type": "markdown",
   "id": "7e942313",
   "metadata": {},
   "source": [
    "# This tutorial show how to  read Unicode charatere in python"
   ]
  },
  {
   "cell_type": "markdown",
   "id": "c70b1fae",
   "metadata": {},
   "source": [
    " The best way to read those data kinds of datasets is to use open with encoding='utf8' to avoid strange characters when printing "
   ]
  },
  {
   "cell_type": "code",
   "execution_count": 338,
   "id": "ffac7707",
   "metadata": {},
   "outputs": [
    {
     "name": "stdout",
     "output_type": "stream",
     "text": [
      "line 1: Akhu míá ŋgap à gɔ te zwɛ mɔ ŋgapá.\n",
      "\n",
      "line 2: Mbapndo a le gɛ, yí fu gɔ á náŋá, é cʉ̄’ wɔ ziŋ á zoko é gɔ.\n",
      "\n"
     ]
    }
   ],
   "source": [
    "lines = []\n",
    "with open('Downloads/text.txt','r',encoding='utf8') as f:\n",
    "    lines = f.readlines()\n",
    "f.close()\n",
    "count = 0\n",
    "for line in lines:\n",
    "    count += 1\n",
    "    print(f'line {count}: {line}')    "
   ]
  },
  {
   "cell_type": "markdown",
   "id": "0634ee02",
   "metadata": {},
   "source": [
    "## Remove punctuation and extract each unique word in the initial text.   "
   ]
  },
  {
   "cell_type": "code",
   "execution_count": 349,
   "id": "a04a667a",
   "metadata": {},
   "outputs": [
    {
     "name": "stdout",
     "output_type": "stream",
     "text": [
      "['Akhu míá ŋgap à gɔ te zwɛ mɔ ŋgapá', 'Mbapndo a le gɛ yí fu gɔ á náŋá é cʉ̄’ wɔ ziŋ á zoko é gɔ']\n",
      "['Akhu míá ŋgap à gɔ te zwɛ mɔ ŋgapá', 'Mbapndo a le gɛ yí fu gɔ á náŋá é cʉ̄’ wɔ ziŋ á zoko é gɔ']\n"
     ]
    }
   ],
   "source": [
    "line = list()\n",
    "for i in range(len(lines)):\n",
    "    lines[i] = lines[i].translate(str.maketrans('', '', string.punctuation)).strip()\n",
    "    line +=lines[i].split()\n",
    "    print(lines)\n"
   ]
  },
  {
   "cell_type": "markdown",
   "id": "ab59a7b7",
   "metadata": {},
   "source": [
    "## Let's count the number of occurance of each unique word"
   ]
  },
  {
   "cell_type": "code",
   "execution_count": 314,
   "id": "d6bc02d3",
   "metadata": {},
   "outputs": [],
   "source": [
    "from collections import Counter"
   ]
  },
  {
   "cell_type": "code",
   "execution_count": 350,
   "id": "fa611a0f",
   "metadata": {},
   "outputs": [],
   "source": [
    "\n",
    "u= np.unique(line)\n",
    "counter = Counter(line)\n",
    "compt = list()\n",
    "for string in u: \n",
    "    compt.append(counter[string])"
   ]
  },
  {
   "cell_type": "code",
   "execution_count": 351,
   "id": "73187d18",
   "metadata": {},
   "outputs": [
    {
     "data": {
      "text/html": [
       "<div>\n",
       "<style scoped>\n",
       "    .dataframe tbody tr th:only-of-type {\n",
       "        vertical-align: middle;\n",
       "    }\n",
       "\n",
       "    .dataframe tbody tr th {\n",
       "        vertical-align: top;\n",
       "    }\n",
       "\n",
       "    .dataframe thead th {\n",
       "        text-align: right;\n",
       "    }\n",
       "</style>\n",
       "<table border=\"1\" class=\"dataframe\">\n",
       "  <thead>\n",
       "    <tr style=\"text-align: right;\">\n",
       "      <th></th>\n",
       "      <th>word</th>\n",
       "      <th>count</th>\n",
       "    </tr>\n",
       "  </thead>\n",
       "  <tbody>\n",
       "    <tr>\n",
       "      <th>0</th>\n",
       "      <td>Akhu</td>\n",
       "      <td>1</td>\n",
       "    </tr>\n",
       "    <tr>\n",
       "      <th>1</th>\n",
       "      <td>Mbapndo</td>\n",
       "      <td>1</td>\n",
       "    </tr>\n",
       "    <tr>\n",
       "      <th>2</th>\n",
       "      <td>a</td>\n",
       "      <td>1</td>\n",
       "    </tr>\n",
       "    <tr>\n",
       "      <th>3</th>\n",
       "      <td>cʉ̄’</td>\n",
       "      <td>1</td>\n",
       "    </tr>\n",
       "    <tr>\n",
       "      <th>4</th>\n",
       "      <td>fu</td>\n",
       "      <td>1</td>\n",
       "    </tr>\n",
       "    <tr>\n",
       "      <th>5</th>\n",
       "      <td>gɔ</td>\n",
       "      <td>3</td>\n",
       "    </tr>\n",
       "    <tr>\n",
       "      <th>6</th>\n",
       "      <td>gɛ</td>\n",
       "      <td>1</td>\n",
       "    </tr>\n",
       "    <tr>\n",
       "      <th>7</th>\n",
       "      <td>le</td>\n",
       "      <td>1</td>\n",
       "    </tr>\n",
       "    <tr>\n",
       "      <th>8</th>\n",
       "      <td>míá</td>\n",
       "      <td>1</td>\n",
       "    </tr>\n",
       "    <tr>\n",
       "      <th>9</th>\n",
       "      <td>mɔ</td>\n",
       "      <td>1</td>\n",
       "    </tr>\n",
       "    <tr>\n",
       "      <th>10</th>\n",
       "      <td>náŋá</td>\n",
       "      <td>1</td>\n",
       "    </tr>\n",
       "    <tr>\n",
       "      <th>11</th>\n",
       "      <td>te</td>\n",
       "      <td>1</td>\n",
       "    </tr>\n",
       "    <tr>\n",
       "      <th>12</th>\n",
       "      <td>wɔ</td>\n",
       "      <td>1</td>\n",
       "    </tr>\n",
       "    <tr>\n",
       "      <th>13</th>\n",
       "      <td>yí</td>\n",
       "      <td>1</td>\n",
       "    </tr>\n",
       "    <tr>\n",
       "      <th>14</th>\n",
       "      <td>ziŋ</td>\n",
       "      <td>1</td>\n",
       "    </tr>\n",
       "    <tr>\n",
       "      <th>15</th>\n",
       "      <td>zoko</td>\n",
       "      <td>1</td>\n",
       "    </tr>\n",
       "    <tr>\n",
       "      <th>16</th>\n",
       "      <td>zwɛ</td>\n",
       "      <td>1</td>\n",
       "    </tr>\n",
       "    <tr>\n",
       "      <th>17</th>\n",
       "      <td>à</td>\n",
       "      <td>1</td>\n",
       "    </tr>\n",
       "    <tr>\n",
       "      <th>18</th>\n",
       "      <td>á</td>\n",
       "      <td>2</td>\n",
       "    </tr>\n",
       "    <tr>\n",
       "      <th>19</th>\n",
       "      <td>é</td>\n",
       "      <td>2</td>\n",
       "    </tr>\n",
       "    <tr>\n",
       "      <th>20</th>\n",
       "      <td>ŋgap</td>\n",
       "      <td>1</td>\n",
       "    </tr>\n",
       "    <tr>\n",
       "      <th>21</th>\n",
       "      <td>ŋgapá</td>\n",
       "      <td>1</td>\n",
       "    </tr>\n",
       "  </tbody>\n",
       "</table>\n",
       "</div>"
      ],
      "text/plain": [
       "       word  count\n",
       "0      Akhu      1\n",
       "1   Mbapndo      1\n",
       "2         a      1\n",
       "3      cʉ̄’      1\n",
       "4        fu      1\n",
       "5        gɔ      3\n",
       "6        gɛ      1\n",
       "7        le      1\n",
       "8       míá      1\n",
       "9        mɔ      1\n",
       "10     náŋá      1\n",
       "11       te      1\n",
       "12       wɔ      1\n",
       "13       yí      1\n",
       "14      ziŋ      1\n",
       "15     zoko      1\n",
       "16      zwɛ      1\n",
       "17        à      1\n",
       "18        á      2\n",
       "19        é      2\n",
       "20     ŋgap      1\n",
       "21    ŋgapá      1"
      ]
     },
     "execution_count": 351,
     "metadata": {},
     "output_type": "execute_result"
    }
   ],
   "source": [
    "data = {'word': u, 'count': compt}  \n",
    "  \n",
    "# Create DataFrame  \n",
    "df = pd.DataFrame(data)  \n",
    "df"
   ]
  },
  {
   "cell_type": "markdown",
   "id": "8e1f773d",
   "metadata": {},
   "source": [
    "# Let's visualize the tokens frenquency "
   ]
  },
  {
   "cell_type": "markdown",
   "id": "ff114157",
   "metadata": {},
   "source": [
    "A method for visualizing the frequency of tokens within and across corpora is frequency distribution"
   ]
  },
  {
   "cell_type": "code",
   "execution_count": 358,
   "id": "493cc4a6",
   "metadata": {},
   "outputs": [],
   "source": [
    "import seaborn as sns\n",
    "import matplotlib.pyplot as plt\n",
    "sns.set_theme(style=\"ticks\", color_codes=True)\n"
   ]
  },
  {
   "cell_type": "code",
   "execution_count": 373,
   "id": "ec5e8862",
   "metadata": {},
   "outputs": [
    {
     "data": {
      "text/plain": [
       "<seaborn.axisgrid.FacetGrid at 0x1e685f23cd0>"
      ]
     },
     "execution_count": 373,
     "metadata": {},
     "output_type": "execute_result"
    },
    {
     "data": {
      "image/png": "[encoded data removed]",
      "text/plain": [
       "<Figure size 360x360 with 1 Axes>"
      ]
     },
     "metadata": {},
     "output_type": "display_data"
    }
   ],
   "source": [
    "sns.catplot(x=\"count\", y=\"word\", kind=\"bar\",palette=\"pastel\", edgecolor=\".6\", data=df)"
   ]
  }
 ],
 "metadata": {
  "kernelspec": {
   "display_name": "Python 3",
   "language": "python",
   "name": "python3"
  },
  "language_info": {
   "codemirror_mode": {
    "name": "ipython",
    "version": 3
   },
   "file_extension": ".py",
   "mimetype": "text/x-python",
   "name": "python",
   "nbconvert_exporter": "python",
   "pygments_lexer": "ipython3",
   "version": "3.8.8"
  }
 },
 "nbformat": 4,
 "nbformat_minor": 5
}
