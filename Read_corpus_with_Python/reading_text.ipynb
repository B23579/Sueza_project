{
 "cells": [
  {
   "cell_type": "code",
   "execution_count": 1,
   "id": "2ded2dff",
   "metadata": {},
   "outputs": [],
   "source": [
    "import pandas as pd\n",
    "import numpy as np\n",
    "import string # this will be used to remouve puntuation"
   ]
  },
  {
   "cell_type": "markdown",
   "id": "7e942313",
   "metadata": {},
   "source": [
    "# This tutorial show how to  read Unicode charatere in python"
   ]
  },
  {
   "cell_type": "markdown",
   "id": "c70b1fae",
   "metadata": {},
   "source": [
    " The best way to read those data kinds of datasets is to use open with encoding='utf8' to avoid strange characters when printing "
   ]
  },
  {
   "cell_type": "code",
   "execution_count": 2,
   "id": "ffac7707",
   "metadata": {},
   "outputs": [
    {
     "name": "stdout",
     "output_type": "stream",
     "text": [
      "line 1: Akhu míá ŋgap à gɔ te zwɛ mɔ ŋgapá.\n",
      "\n",
      "line 2: Mbapndo a le gɛ, yí fu gɔ á náŋá, é cʉ̄’ wɔ ziŋ á zoko é gɔ.\n",
      "\n",
      "line 3: Na me mɔ / Míá ŋgap, á gɔ kʉ̄ʉ áá ŋkɛne kɛné\n",
      "\n",
      "line 4: A ghɔ ntsyɛtɛ ezi ŋgap, áá ale ‘ e esaá .\n",
      "\n",
      "line 5: A ghɔ ntsyɛtɛ ezi ŋgap, áá ale ‘ e esaá .\n",
      "\n",
      "line 6: A ghɔ ntsyɛtɛ ezi ŋgap, áá ale ‘ e esaá .\n",
      "\n",
      "line 7: Meza ‘seŋ ŋgap é le tsīá á tuŋ ŋkhʉ meŋkʉɔ’\n",
      "\n",
      "line 8: Seŋgap, un ndū á esi, un mekhu yi.\n",
      "\n",
      "line 9: Seŋ ŋgap a le tshí á nzeŋ mmɔ ‘, ńtɔŋ á lewhʉ á shʉ’ ndɔ̄k á yi\n",
      "\n",
      "line 10: Mɔ tsɔ ‘, a te seŋ\n",
      "\n",
      "line 11: Akepeŋ á le lé ŋgɛ, ŋiŋ un zwiŋɛ, á á mɔ .\n",
      "\n",
      "line 12: Mɔ eswia a gɛ ntswhiɛ á me ntsɔ ‘áhu yi .\n",
      "\n",
      "line 13: Ńtswī ŋke gó, á mbu aŋiŋia. \n",
      "\n",
      "line 14: Ńtswī ŋke gó, á mbu aŋiŋia. \n",
      "\n",
      "line 15: Ńtswī ŋke gó, á mbu aŋiŋia. \n",
      "\n",
      "line 16: Ńtswī ŋke gó, á mbu aŋiŋia. \n",
      "\n",
      "line 17: Akeka’a á le gē pú’ɔ, méŋsé á nɔŋ ŋgɔ áá ŋghiɛ .\n",
      "\n",
      "line 18: Lezek é gɔ le cʉ̄ á un seŋ, tɛ nzwhí áíí .\n",
      "\n",
      "line 19: Mbu ‘aleŋ mbhʉ.\n",
      "\n",
      "line 20: Mɛ le lá ‘zge zap á méŋ mbhʉ, ŋgɛ a á nhʉ á ŋka’ kya .\n",
      "\n",
      "line 21: Medɔ a le zík tɛ nté ŋkhʉ, á ntɔŋ yí .\n",
      "\n",
      "line 22: Na a éka, mbhʉ é ka .\n",
      "\n",
      "line 23: O o pɛ á tɔ á esi, mbhʉ á jʉɔ.\n",
      "\n",
      "line 24: O o pɛ á tɔ á esi, mbhʉ á jʉɔ.\n",
      "\n",
      "line 25: Menɔŋɔ mvho é le ncʉ ‘menɔŋɔ nzwi.\n",
      "\n",
      "line 26: Ésáŋ memvho, mé mekhu.\n",
      "\n",
      "line 27: Mvho zīi, e é fa a akɛt. \n",
      "\n",
      "line 28: O fa’a á mɔ, á nzem afwɛt .\n",
      "\n",
      "line 29: Mɛ gɔ te ŋgɔ̄ɔ esoh, éswɛtte á ntshiɛ . \n",
      "\n",
      "line 30: Mɛ gɔ te ŋgɔ̄ɔ esoh, éswɛtte á ntshiɛ . \n",
      "\n",
      "line 31: Tɔŋ ŋgɛ, nzi ntshi et zééŋ ńzáŋ esoh.\n",
      "\n",
      "line 32: Tɔŋ ŋgɛ, nzi ntshi et zééŋ ńzáŋ esoh.\n",
      "\n",
      "line 33: Mɛ jʉɔ mekwɛt pá’a, ńzhɛ á legɛ, mɛ shʉ ‘ējʉɔ ŋgɔ’.\n",
      "\n",
      "line 34: Pfhɔaŋkʉɔ ‘a le gɛ, ŋiŋ á kyɛt apa zí á ajʉ’ zīi a ku ‘éwú .\n",
      "\n",
      "line 35: Ńzāp mbap-ndo, á lezho. \n",
      "\n",
      "line 36: Mbapndo a gɛ, yí fu gɔ á náŋá, é cʉ̄ ‘zɔŋ zá é zoko é gɔ \n",
      "\n",
      "line 37: A le tɔŋ ala ‘, ŋgwɛ̄t á kekɛ.\n",
      "\n",
      "line 38: Kekɛ a á ko á apa meŋ .  \n",
      "\n",
      "line 39: Aŋka a zí á kʉ á esi.\n",
      "\n",
      "line 40: Nnu etsoók á ŋiŋ, à la ‘ nc ʉ’ɛ ñjʉɔ áŋŋŋɔŋŋ, ŋkʉ̄ kʉ.\n",
      "\n",
      "line 41: Nnu é gɔ le tsɔk á ŋiŋ, mé ath mbu yíí.\n",
      "\n",
      "line 42: Á méŋ nzaŋ épiŋ mé ta ‘ndeŋ, tɛ mbɔ efɔ eshʉɔ .\n",
      "\n",
      "line 43: Mɛ gɔ te fókó mbap á nchu nzwi, té meŋ pwɛt akɛndɔŋɔ.\n",
      "\n",
      "line 44: Mɛ tɛ nzá pá’a, ńtʉɔ’té á nna neéŋ á lesɔŋ .\n",
      "\n",
      "line 45: Mena é le ñjhʉ̄. \n",
      "\n",
      "line 46: Na ŋkʉ kʉ a le zīɛ é yīi nnɔŋ nɔŋ \n",
      "\n",
      "line 47: O naa mena mempia á ta ‘legʉɔ, mbɔ o ó pu pi ntsem \n"
     ]
    }
   ],
   "source": [
    "lines = []\n",
    "with open('Downloads/text.txt','r',encoding='utf8') as f:\n",
    "    lines = f.readlines()\n",
    "f.close()\n",
    "count = 0\n",
    "for line in lines:\n",
    "    count += 1\n",
    "    print(f'line {count}: {line}')    "
   ]
  },
  {
   "cell_type": "markdown",
   "id": "0634ee02",
   "metadata": {},
   "source": [
    "## Remove punctuation and extract each unique word in the initial text.   "
   ]
  },
  {
   "cell_type": "code",
   "execution_count": 4,
   "id": "a04a667a",
   "metadata": {},
   "outputs": [],
   "source": [
    "line = list()\n",
    "for i in range(len(lines)):\n",
    "    lines[i] = lines[i].translate(str.maketrans('', '', string.punctuation)).strip()\n",
    "    line +=lines[i].split()\n",
    "\n"
   ]
  },
  {
   "cell_type": "markdown",
   "id": "ab59a7b7",
   "metadata": {},
   "source": [
    "## Let's count the number of occurance of each unique word"
   ]
  },
  {
   "cell_type": "code",
   "execution_count": 5,
   "id": "d6bc02d3",
   "metadata": {},
   "outputs": [],
   "source": [
    "from collections import Counter"
   ]
  },
  {
   "cell_type": "code",
   "execution_count": 6,
   "id": "fa611a0f",
   "metadata": {},
   "outputs": [],
   "source": [
    "\n",
    "u= np.unique(line)\n",
    "counter = Counter(line)\n",
    "compt = list()\n",
    "for string in u: \n",
    "    compt.append(counter[string])"
   ]
  },
  {
   "cell_type": "code",
   "execution_count": 7,
   "id": "73187d18",
   "metadata": {},
   "outputs": [
    {
     "data": {
      "text/html": [
       "<div>\n",
       "<style scoped>\n",
       "    .dataframe tbody tr th:only-of-type {\n",
       "        vertical-align: middle;\n",
       "    }\n",
       "\n",
       "    .dataframe tbody tr th {\n",
       "        vertical-align: top;\n",
       "    }\n",
       "\n",
       "    .dataframe thead th {\n",
       "        text-align: right;\n",
       "    }\n",
       "</style>\n",
       "<table border=\"1\" class=\"dataframe\">\n",
       "  <thead>\n",
       "    <tr style=\"text-align: right;\">\n",
       "      <th></th>\n",
       "      <th>word</th>\n",
       "      <th>count</th>\n",
       "    </tr>\n",
       "  </thead>\n",
       "  <tbody>\n",
       "    <tr>\n",
       "      <th>0</th>\n",
       "      <td>A</td>\n",
       "      <td>4</td>\n",
       "    </tr>\n",
       "    <tr>\n",
       "      <th>1</th>\n",
       "      <td>Akeka’a</td>\n",
       "      <td>1</td>\n",
       "    </tr>\n",
       "    <tr>\n",
       "      <th>2</th>\n",
       "      <td>Akepeŋ</td>\n",
       "      <td>1</td>\n",
       "    </tr>\n",
       "    <tr>\n",
       "      <th>3</th>\n",
       "      <td>Akhu</td>\n",
       "      <td>1</td>\n",
       "    </tr>\n",
       "    <tr>\n",
       "      <th>4</th>\n",
       "      <td>Aŋka</td>\n",
       "      <td>1</td>\n",
       "    </tr>\n",
       "    <tr>\n",
       "      <th>...</th>\n",
       "      <td>...</td>\n",
       "      <td>...</td>\n",
       "    </tr>\n",
       "    <tr>\n",
       "      <th>202</th>\n",
       "      <td>‘zge</td>\n",
       "      <td>1</td>\n",
       "    </tr>\n",
       "    <tr>\n",
       "      <th>203</th>\n",
       "      <td>‘zɔŋ</td>\n",
       "      <td>1</td>\n",
       "    </tr>\n",
       "    <tr>\n",
       "      <th>204</th>\n",
       "      <td>‘áhu</td>\n",
       "      <td>1</td>\n",
       "    </tr>\n",
       "    <tr>\n",
       "      <th>205</th>\n",
       "      <td>‘éwú</td>\n",
       "      <td>1</td>\n",
       "    </tr>\n",
       "    <tr>\n",
       "      <th>206</th>\n",
       "      <td>‘ējʉɔ</td>\n",
       "      <td>1</td>\n",
       "    </tr>\n",
       "  </tbody>\n",
       "</table>\n",
       "<p>207 rows × 2 columns</p>\n",
       "</div>"
      ],
      "text/plain": [
       "        word  count\n",
       "0          A      4\n",
       "1    Akeka’a      1\n",
       "2     Akepeŋ      1\n",
       "3       Akhu      1\n",
       "4       Aŋka      1\n",
       "..       ...    ...\n",
       "202     ‘zge      1\n",
       "203     ‘zɔŋ      1\n",
       "204     ‘áhu      1\n",
       "205     ‘éwú      1\n",
       "206    ‘ējʉɔ      1\n",
       "\n",
       "[207 rows x 2 columns]"
      ]
     },
     "execution_count": 7,
     "metadata": {},
     "output_type": "execute_result"
    }
   ],
   "source": [
    "data = {'word': u, 'count': compt}  \n",
    "  \n",
    "# Create DataFrame  \n",
    "df = pd.DataFrame(data)  \n",
    "df"
   ]
  },
  {
   "cell_type": "markdown",
   "id": "8e1f773d",
   "metadata": {},
   "source": [
    "# Let's visualize the tokens frenquency "
   ]
  },
  {
   "cell_type": "markdown",
   "id": "ff114157",
   "metadata": {},
   "source": [
    "A method for visualizing the frequency of tokens within and across corpora is frequency distribution"
   ]
  },
  {
   "cell_type": "code",
   "execution_count": 8,
   "id": "493cc4a6",
   "metadata": {},
   "outputs": [],
   "source": [
    "import seaborn as sns\n",
    "import matplotlib.pyplot as plt\n",
    "sns.set_theme(style=\"ticks\", color_codes=True)\n"
   ]
  },
  {
   "cell_type": "code",
   "execution_count": 9,
   "id": "ec5e8862",
   "metadata": {},
   "outputs": [
    {
     "data": {
      "text/plain": [
       "<seaborn.axisgrid.FacetGrid at 0x1dc50201940>"
      ]
     },
     "execution_count": 9,
     "metadata": {},
     "output_type": "execute_result"
    },
    {
     "data": {
      "image/png": "[encoded data removed]",
      "text/plain": [
       "<Figure size 360x360 with 1 Axes>"
      ]
     },
     "metadata": {},
     "output_type": "display_data"
    }
   ],
   "source": [
    "sns.catplot(x=\"count\", y=\"word\", kind=\"bar\",palette=\"pastel\", edgecolor=\".6\", data=df)"
   ]
  },
  {
   "cell_type": "markdown",
   "id": "ce6d1120",
   "metadata": {},
   "source": [
    "## Visualized word with more than 4 count"
   ]
  },
  {
   "cell_type": "markdown",
   "id": "f3726923",
   "metadata": {},
   "source": [
    "We plot the word that have more than 4 occurance in the previous text"
   ]
  },
  {
   "cell_type": "code",
   "execution_count": 27,
   "id": "73b834fb",
   "metadata": {},
   "outputs": [
    {
     "data": {
      "text/plain": [
       "<seaborn.axisgrid.FacetGrid at 0x1dc53821790>"
      ]
     },
     "execution_count": 27,
     "metadata": {},
     "output_type": "execute_result"
    },
    {
     "data": {
      "image/png": "[encoded data removed]",
      "text/plain": [
       "<Figure size 360x360 with 1 Axes>"
      ]
     },
     "metadata": {},
     "output_type": "display_data"
    }
   ],
   "source": [
    "gh = df[df['count']>3]\n",
    "sns.catplot(x=\"count\", y=\"word\", kind=\"bar\",palette=\"pastel\", edgecolor=\".6\", data=gh)"
   ]
  },
  {
   "cell_type": "code",
   "execution_count": null,
   "id": "a2d1e27e",
   "metadata": {},
   "outputs": [],
   "source": []
  },
  {
   "cell_type": "code",
   "execution_count": null,
   "id": "bb198d54",
   "metadata": {},
   "outputs": [],
   "source": []
  },
  {
   "cell_type": "code",
   "execution_count": null,
   "id": "1da9aab2",
   "metadata": {},
   "outputs": [],
   "source": []
  },
  {
   "cell_type": "code",
   "execution_count": null,
   "id": "1024cb54",
   "metadata": {},
   "outputs": [],
   "source": []
  },
  {
   "cell_type": "code",
   "execution_count": null,
   "id": "9f6ecb9b",
   "metadata": {},
   "outputs": [],
   "source": []
  }
 ],
 "metadata": {
  "kernelspec": {
   "display_name": "Python 3",
   "language": "python",
   "name": "python3"
  },
  "language_info": {
   "codemirror_mode": {
    "name": "ipython",
    "version": 3
   },
   "file_extension": ".py",
   "mimetype": "text/x-python",
   "name": "python",
   "nbconvert_exporter": "python",
   "pygments_lexer": "ipython3",
   "version": "3.8.8"
  }
 },
 "nbformat": 4,
 "nbformat_minor": 5
}
